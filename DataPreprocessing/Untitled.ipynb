{
 "cells": [
  {
   "cell_type": "markdown",
   "id": "247e486e",
   "metadata": {},
   "source": [
    "## Data Preprocessing Tools"
   ]
  },
  {
   "cell_type": "markdown",
   "id": "1986d224",
   "metadata": {},
   "source": [
    "Importing the libraries"
   ]
  },
  {
   "cell_type": "code",
   "execution_count": 1,
   "id": "df5ebd8f",
   "metadata": {},
   "outputs": [],
   "source": [
    "import numpy as np\n",
    "import pandas as pd\n",
    "import matplotlib.pyplot as pls"
   ]
  },
  {
   "cell_type": "markdown",
   "id": "6dc1fde7",
   "metadata": {},
   "source": [
    "Importing the dataset"
   ]
  },
  {
   "cell_type": "code",
   "execution_count": 2,
   "id": "2958a91d",
   "metadata": {},
   "outputs": [],
   "source": [
    "dataset = pd.read_csv(\"Data.csv\")\n",
    "# Xler bizim feature vektörümüz olurken y bizim dependent veriablemiz olacak\n",
    "# dataset.iloc[:,:] ilk : alınacak row sayısını ifade ederken ikinci : alınacak column sayısını ifade eder\n",
    "# Burada bütün verileri almak isteyip sadece verilerimizi columna göre bölmek istediğimiz için ilk : olduğu gibi bırakıyoruz\n",
    "# : olduğu gibi bırakmak demek hepsini al demektir.\n",
    "# .values eki sadece verileri al demek yani column nameleri ve row indexleri aradan çıkarılır.\n",
    "X = dataset.iloc[:, :-1].values\n",
    "y = dataset.iloc[:, -1].values"
   ]
  },
  {
   "cell_type": "code",
   "execution_count": 3,
   "id": "b4b5c589",
   "metadata": {},
   "outputs": [
    {
     "name": "stdout",
     "output_type": "stream",
     "text": [
      "[['France' 44.0 72000.0]\n",
      " ['Spain' 27.0 48000.0]\n",
      " ['Germany' 30.0 54000.0]\n",
      " ['Spain' 38.0 61000.0]\n",
      " ['Germany' 40.0 nan]\n",
      " ['France' 35.0 58000.0]\n",
      " ['Spain' nan 52000.0]\n",
      " ['France' 48.0 79000.0]\n",
      " ['Germany' 50.0 83000.0]\n",
      " ['France' 37.0 67000.0]]\n"
     ]
    }
   ],
   "source": [
    "print(X)"
   ]
  },
  {
   "cell_type": "code",
   "execution_count": 5,
   "id": "1a80b2da",
   "metadata": {},
   "outputs": [
    {
     "name": "stdout",
     "output_type": "stream",
     "text": [
      "['No' 'Yes' 'No' 'No' 'Yes' 'Yes' 'No' 'Yes' 'No' 'Yes']\n"
     ]
    }
   ],
   "source": [
    "print(y)"
   ]
  },
  {
   "cell_type": "code",
   "execution_count": 6,
   "id": "f3c4acb7",
   "metadata": {},
   "outputs": [],
   "source": [
    "missing_values = dataset.isna().sum()"
   ]
  },
  {
   "cell_type": "code",
   "execution_count": 7,
   "id": "3ef3321f",
   "metadata": {},
   "outputs": [
    {
     "name": "stdout",
     "output_type": "stream",
     "text": [
      "Country      0\n",
      "Age          1\n",
      "Salary       1\n",
      "Purchased    0\n",
      "dtype: int64\n"
     ]
    }
   ],
   "source": [
    "print(missing_values)"
   ]
  },
  {
   "cell_type": "markdown",
   "id": "9c2beb53",
   "metadata": {},
   "source": [
    "Taking care of missing data"
   ]
  },
  {
   "cell_type": "code",
   "execution_count": 8,
   "id": "f7301ebc",
   "metadata": {},
   "outputs": [],
   "source": [
    "from sklearn.impute import SimpleImputer\n",
    "imputer = SimpleImputer(missing_values = np.nan, strategy='mean')"
   ]
  },
  {
   "cell_type": "code",
   "execution_count": 9,
   "id": "14476519",
   "metadata": {},
   "outputs": [],
   "source": [
    "imputer.fit(X[:,1:3])\n",
    "X[:,1:3] = imputer.transform(X[:,1:3])"
   ]
  },
  {
   "cell_type": "code",
   "execution_count": 18,
   "id": "c4072dbf",
   "metadata": {},
   "outputs": [
    {
     "name": "stdout",
     "output_type": "stream",
     "text": [
      "[['France' 44.0 72000.0]\n",
      " ['Spain' 27.0 48000.0]\n",
      " ['Germany' 30.0 54000.0]\n",
      " ['Spain' 38.0 61000.0]\n",
      " ['Germany' 40.0 63777.77777777778]\n",
      " ['France' 35.0 58000.0]\n",
      " ['Spain' 38.77777777777778 52000.0]\n",
      " ['France' 48.0 79000.0]\n",
      " ['Germany' 50.0 83000.0]\n",
      " ['France' 37.0 67000.0]]\n"
     ]
    }
   ],
   "source": [
    "print(X)"
   ]
  },
  {
   "cell_type": "markdown",
   "id": "63ebaabd",
   "metadata": {},
   "source": [
    "Encoding categorical data"
   ]
  },
  {
   "cell_type": "markdown",
   "id": "f2abd1fd",
   "metadata": {},
   "source": [
    "Encoding the Independent Variable"
   ]
  },
  {
   "cell_type": "code",
   "execution_count": 19,
   "id": "8114a28c",
   "metadata": {},
   "outputs": [],
   "source": [
    "from sklearn.compose import ColumnTransformer\n",
    "from sklearn.preprocessing import OneHotEncoder"
   ]
  },
  {
   "cell_type": "code",
   "execution_count": 21,
   "id": "6322921c",
   "metadata": {},
   "outputs": [],
   "source": [
    "# transformers argümanı içerisinde 3 değer olan bir tuple alacaktır\n",
    "# [('transformerimize vermek istediğimiz isim (herhangi bir şey olabilir)'),Kullanacağımız encoder vey columntransformer,[uygulanacağı index]]\n",
    "# remainder = 'passthrough' olarak bırakılmasının sebebi dönüşüm yapılmayacak sütünların olduğu gibi kalmasını sağlamaktır.\n",
    "ct = ColumnTransformer(transformers = [('encoder',OneHotEncoder(),[0])], remainder = 'passthrough')\n",
    "# fit_transform kodu ayarladığımız dönüşümleri istediğimiz veri setine uygular ve işlenmiş veri setini döndürür\n",
    "# yanlız veri setinin geri dönüş tipi np arrayi olmadığından outputu np.array() içine alarak np arrayi olmaya zorlarız.\n",
    "X = np.array(ct.fit_transform(X))"
   ]
  },
  {
   "cell_type": "code",
   "execution_count": 22,
   "id": "25b6b211",
   "metadata": {},
   "outputs": [
    {
     "name": "stdout",
     "output_type": "stream",
     "text": [
      "[[1.0 0.0 0.0 44.0 72000.0]\n",
      " [0.0 0.0 1.0 27.0 48000.0]\n",
      " [0.0 1.0 0.0 30.0 54000.0]\n",
      " [0.0 0.0 1.0 38.0 61000.0]\n",
      " [0.0 1.0 0.0 40.0 63777.77777777778]\n",
      " [1.0 0.0 0.0 35.0 58000.0]\n",
      " [0.0 0.0 1.0 38.77777777777778 52000.0]\n",
      " [1.0 0.0 0.0 48.0 79000.0]\n",
      " [0.0 1.0 0.0 50.0 83000.0]\n",
      " [1.0 0.0 0.0 37.0 67000.0]]\n"
     ]
    }
   ],
   "source": [
    "print(X)"
   ]
  },
  {
   "cell_type": "markdown",
   "id": "a3ed48df",
   "metadata": {},
   "source": [
    "Encoding the Dependent Variable"
   ]
  },
  {
   "cell_type": "code",
   "execution_count": 24,
   "id": "04dabeef",
   "metadata": {
    "scrolled": true
   },
   "outputs": [
    {
     "name": "stdout",
     "output_type": "stream",
     "text": [
      "['No' 'Yes' 'No' 'No' 'Yes' 'Yes' 'No' 'Yes' 'No' 'Yes']\n"
     ]
    }
   ],
   "source": [
    "print(y)"
   ]
  },
  {
   "cell_type": "code",
   "execution_count": 33,
   "id": "eb9e66ed",
   "metadata": {},
   "outputs": [],
   "source": [
    "# Yukarıda da görüldüğü üzere y verisetimiz matris değil vektör şeklindedir.\n",
    "# Bu yüzden y verisetimizi label olarak tanımlarız\n",
    "# Labelleri encode etmek için başka bir fonksiyon kullanırız\n",
    "# Ayrıca bu şekilde kullanabilmemizin sebebi sadece 2 classa sahip olmasıdır\n",
    "from sklearn.preprocessing import LabelEncoder"
   ]
  },
  {
   "cell_type": "code",
   "execution_count": 31,
   "id": "cee64e53",
   "metadata": {},
   "outputs": [],
   "source": [
    "le = LabelEncoder()\n",
    "y = le.fit_transform(y)"
   ]
  },
  {
   "cell_type": "code",
   "execution_count": 32,
   "id": "87db32ac",
   "metadata": {},
   "outputs": [
    {
     "name": "stdout",
     "output_type": "stream",
     "text": [
      "[0 1 0 0 1 1 0 1 0 1]\n"
     ]
    }
   ],
   "source": [
    "print(y)"
   ]
  },
  {
   "cell_type": "markdown",
   "id": "b33904dd",
   "metadata": {},
   "source": [
    "Splitting the dataset into the Training set and Test set"
   ]
  },
  {
   "cell_type": "code",
   "execution_count": null,
   "id": "edb3d7ae",
   "metadata": {},
   "outputs": [],
   "source": []
  }
 ],
 "metadata": {
  "kernelspec": {
   "display_name": "Python 3 (ipykernel)",
   "language": "python",
   "name": "python3"
  },
  "language_info": {
   "codemirror_mode": {
    "name": "ipython",
    "version": 3
   },
   "file_extension": ".py",
   "mimetype": "text/x-python",
   "name": "python",
   "nbconvert_exporter": "python",
   "pygments_lexer": "ipython3",
   "version": "3.10.9"
  }
 },
 "nbformat": 4,
 "nbformat_minor": 5
}
